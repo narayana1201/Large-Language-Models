{
 "cells": [
  {
   "cell_type": "code",
   "execution_count": null,
   "id": "0bc15097-ddf1-431e-9a79-50a0909f77f5",
   "metadata": {},
   "outputs": [],
   "source": [
    "!pip install bitsandbytes\n",
    "!pip install -q -U git+https://github.com/huggingface/transformers\n",
    "!pip install -q -U git+https://github.com/huggingface/accelerate "
   ]
  },
  {
   "cell_type": "code",
   "execution_count": null,
   "id": "5975c104-7cda-48e1-a248-48aaf8e8b333",
   "metadata": {},
   "outputs": [],
   "source": [
    "# Without Framework\n",
    "from transformers import T5Tokenizer, T5ForConditionalGeneration #T5 is google encode-decode model\n",
    "\n",
    "tokenizer = T5Tokenizer.from_pretrained(\"google/flan-t5-small\")\n",
    "model = T5ForConditionalGeneration.from_pretrained(\"google/flan-t5-small\")"
   ]
  },
  {
   "cell_type": "code",
   "execution_count": null,
   "id": "98dda2c8-2a2c-40ba-a006-fc8b5306145a",
   "metadata": {},
   "outputs": [],
   "source": [
    "from transformers import pipeline\n",
    "pipe = pipeline(\n",
    "    'text2text-generation', # task\n",
    "    model=model,\n",
    "    tokenizer=tokenizer,\n",
    "    max_length=512,\n",
    "    temperature=0.9\n",
    ")"
   ]
  },
  {
   "cell_type": "code",
   "execution_count": null,
   "id": "e0d47f0c-cbda-41e2-8fcb-93bfd96b5150",
   "metadata": {},
   "outputs": [],
   "source": [
    "pipe(\"Translate English to German: Hi, How are you\")"
   ]
  },
  {
   "cell_type": "code",
   "execution_count": null,
   "id": "caa79468-ba18-40de-974e-2bd5018acfe4",
   "metadata": {},
   "outputs": [],
   "source": []
  },
  {
   "cell_type": "code",
   "execution_count": null,
   "id": "7dbb303e-74c2-4b59-acc4-b2de23ef6f74",
   "metadata": {},
   "outputs": [],
   "source": []
  }
 ],
 "metadata": {
  "kernelspec": {
   "display_name": "Python 3 (ipykernel)",
   "language": "python",
   "name": "python3"
  },
  "language_info": {
   "codemirror_mode": {
    "name": "ipython",
    "version": 3
   },
   "file_extension": ".py",
   "mimetype": "text/x-python",
   "name": "python",
   "nbconvert_exporter": "python",
   "pygments_lexer": "ipython3",
   "version": "3.12.2"
  }
 },
 "nbformat": 4,
 "nbformat_minor": 5
}
