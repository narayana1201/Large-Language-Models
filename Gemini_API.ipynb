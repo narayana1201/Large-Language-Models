{
 "cells": [
  {
   "cell_type": "code",
   "execution_count": null,
   "id": "b5def420-9560-42cf-89e5-d41afeee5f3a",
   "metadata": {},
   "outputs": [],
   "source": [
    "#Package Installation\n",
    "!pip install google-generativeai"
   ]
  },
  {
   "cell_type": "code",
   "execution_count": null,
   "id": "06e21e71-783f-4acf-b894-71c9a0993c11",
   "metadata": {},
   "outputs": [],
   "source": [
    "#Importing packages\n",
    "import google.generativeai as genai\n",
    "\n",
    "#API Key\n",
    "genai.configure(api_key=\"Your API key\") "
   ]
  },
  {
   "cell_type": "code",
   "execution_count": null,
   "id": "9195a7a6-973c-4003-8d68-659c7bcd38ab",
   "metadata": {},
   "outputs": [],
   "source": [
    "#List out available models\n",
    "for m in genai.list_models():\n",
    "  if 'generateContent' in m.supported_generation_methods:\n",
    "    print(m.name)"
   ]
  },
  {
   "cell_type": "code",
   "execution_count": null,
   "id": "d0c58b8c-5c37-4eda-b46e-d832839b0937",
   "metadata": {},
   "outputs": [],
   "source": [
    "#Loading Gemini\n",
    "model = genai.GenerativeModel('gemini-pro') #Models"
   ]
  },
  {
   "cell_type": "code",
   "execution_count": null,
   "id": "21b9c7fc-3ed0-4256-9781-5d61ae8db429",
   "metadata": {},
   "outputs": [],
   "source": [
    "#Query\n",
    "response = model.generate_content(\"Can you explain about AI?\") #Your input prompt\n",
    "print(response.text)"
   ]
  },
  {
   "cell_type": "raw",
   "id": "603498d8-598a-45f8-91ca-67c1a816c7e2",
   "metadata": {},
   "source": [
    "Gemini-Vision-pro"
   ]
  },
  {
   "cell_type": "code",
   "execution_count": null,
   "id": "8d1adffd-7475-46eb-bd9b-ada2ec466519",
   "metadata": {},
   "outputs": [],
   "source": [
    "import PIL.Image\n",
    "img = PIL.Image.open('/content/Rx100.jfif') #load image"
   ]
  },
  {
   "cell_type": "code",
   "execution_count": null,
   "id": "59553309-b9c5-4484-a358-8c7e8fa0ba18",
   "metadata": {},
   "outputs": [],
   "source": [
    "model = genai.GenerativeModel('gemini-pro-vision') # vision Model"
   ]
  },
  {
   "cell_type": "code",
   "execution_count": null,
   "id": "79e1ce0a-3a06-405b-bc29-61deeda8fc2a",
   "metadata": {},
   "outputs": [],
   "source": [
    "#here you will get only the response releated to image\n",
    "response = model.generate_content(img)\n",
    "print(response.text)"
   ]
  },
  {
   "cell_type": "code",
   "execution_count": null,
   "id": "13d1aee2-e61f-46ed-a2f9-99b839ed284a",
   "metadata": {},
   "outputs": [],
   "source": [
    "# here you can ask you query related to image. LLM will generate the response within the prompt you have asked.\n",
    "response = model.generate_content([\"Write a short, engaging blog artile based on this picture.\", img])\n",
    "response.resolve()\n",
    "print(response.text)"
   ]
  },
  {
   "cell_type": "code",
   "execution_count": null,
   "id": "64af34e3-a475-4dc5-be59-950b7e9adf6d",
   "metadata": {},
   "outputs": [],
   "source": []
  }
 ],
 "metadata": {
  "kernelspec": {
   "display_name": "Python 3 (ipykernel)",
   "language": "python",
   "name": "python3"
  },
  "language_info": {
   "codemirror_mode": {
    "name": "ipython",
    "version": 3
   },
   "file_extension": ".py",
   "mimetype": "text/x-python",
   "name": "python",
   "nbconvert_exporter": "python",
   "pygments_lexer": "ipython3",
   "version": "3.12.2"
  }
 },
 "nbformat": 4,
 "nbformat_minor": 5
}
